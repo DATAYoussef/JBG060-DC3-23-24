{
 "cells": [
  {
   "cell_type": "code",
   "execution_count": 1,
   "id": "initial_id",
   "metadata": {
    "collapsed": true,
    "tags": [
     "'collapsed'"
    ],
    "ExecuteTime": {
     "end_time": "2023-09-25T12:27:09.113431500Z",
     "start_time": "2023-09-25T12:26:56.450200100Z"
    }
   },
   "outputs": [
    {
     "name": "stderr",
     "output_type": "stream",
     "text": [
      "C:\\Users\\20210777\\Anaconda3\\envs\\DC3\\lib\\site-packages\\umap\\distances.py:1063: NumbaDeprecationWarning: \u001B[1mThe 'nopython' keyword argument was not supplied to the 'numba.jit' decorator. The implicit default value for this argument is currently False, but it will be changed to True in Numba 0.59.0. See https://numba.readthedocs.io/en/stable/reference/deprecation.html#deprecation-of-object-mode-fall-back-behaviour-when-using-jit for details.\u001B[0m\n",
      "  @numba.jit()\n",
      "C:\\Users\\20210777\\Anaconda3\\envs\\DC3\\lib\\site-packages\\umap\\distances.py:1071: NumbaDeprecationWarning: \u001B[1mThe 'nopython' keyword argument was not supplied to the 'numba.jit' decorator. The implicit default value for this argument is currently False, but it will be changed to True in Numba 0.59.0. See https://numba.readthedocs.io/en/stable/reference/deprecation.html#deprecation-of-object-mode-fall-back-behaviour-when-using-jit for details.\u001B[0m\n",
      "  @numba.jit()\n",
      "C:\\Users\\20210777\\Anaconda3\\envs\\DC3\\lib\\site-packages\\umap\\distances.py:1086: NumbaDeprecationWarning: \u001B[1mThe 'nopython' keyword argument was not supplied to the 'numba.jit' decorator. The implicit default value for this argument is currently False, but it will be changed to True in Numba 0.59.0. See https://numba.readthedocs.io/en/stable/reference/deprecation.html#deprecation-of-object-mode-fall-back-behaviour-when-using-jit for details.\u001B[0m\n",
      "  @numba.jit()\n",
      "C:\\Users\\20210777\\Anaconda3\\envs\\DC3\\lib\\site-packages\\umap\\umap_.py:660: NumbaDeprecationWarning: \u001B[1mThe 'nopython' keyword argument was not supplied to the 'numba.jit' decorator. The implicit default value for this argument is currently False, but it will be changed to True in Numba 0.59.0. See https://numba.readthedocs.io/en/stable/reference/deprecation.html#deprecation-of-object-mode-fall-back-behaviour-when-using-jit for details.\u001B[0m\n",
      "  @numba.jit()\n"
     ]
    }
   ],
   "source": [
    "# IMPORTS\n",
    "from bertopic import BERTopic\n",
    "import warnings\n",
    "import pandas as pd\n",
    "import os\n",
    "from sklearn.cluster import KMeans, AgglomerativeClustering, OPTICS, SpectralClustering\n",
    "warnings.filterwarnings(\"ignore\")"
   ]
  },
  {
   "cell_type": "code",
   "execution_count": 2,
   "id": "dccca530c95eb2c2",
   "metadata": {
    "tags": [
     "'collapsed'"
    ],
    "ExecuteTime": {
     "end_time": "2023-09-25T12:27:09.269582Z",
     "start_time": "2023-09-25T12:27:09.113431500Z"
    }
   },
   "outputs": [
    {
     "name": "stdout",
     "output_type": "stream",
     "text": [
      "(18520, 5)\n"
     ]
    }
   ],
   "source": [
    "# Read the data and perform preprocessing\n",
    "\n",
    "df = pd.read_csv(\"data/articles_summary_cleaned.csv\", parse_dates=[\"date\"]) # Read data into 'df' dataframe\n",
    "print(df.shape) # Print dataframe shape\n",
    "\n",
    "docs = df[\"summary\"].tolist() # Create a list containing all article summaries"
   ]
  },
  {
   "cell_type": "code",
   "execution_count": 3,
   "id": "b391d9f9c98c5a56",
   "metadata": {
    "tags": [
     "'collapsed'"
    ],
    "ExecuteTime": {
     "end_time": "2023-09-25T12:27:23.041664900Z",
     "start_time": "2023-09-25T12:27:09.269582Z"
    }
   },
   "outputs": [],
   "source": [
    "if os.path.exists('southsudan_model'):\n",
    "    bertopic = BERTopic.load('southsudan_model')\n",
    "else:\n",
    "    bertopic = BERTopic(language=\"english\", calculate_probabilities=True, verbose=True) # Initialize the BERTopic model\n",
    "\n",
    "    bertopic.fit_transform(docs) # Fit the model to the list of article summaries\n",
    "    bertopic.save(\"southsudan_model\") # Save the trained model as \"southsudan_model\"\n",
    " \n",
    "if os.path.exists('kmeans_model'):\n",
    "    kmeans_model = BERTopic.load('kmeans_model')\n",
    "else:\n",
    "    cluster_model = KMeans(n_clusters=10)\n",
    "    kmeans_model = BERTopic(language=\"english\", calculate_probabilities=True, verbose=True, hdbscan_model=cluster_model) # Initialize the BERTopic model\n",
    "\n",
    "    kmeans_model.fit_transform(docs) # Fit the model to the list of article summaries\n",
    "    kmeans_model.save(\"kmeans_model\") # Save the trained model \n",
    "\n",
    "if os.path.exists('agglomerative_model'):\n",
    "    agglomerative_model = BERTopic.load('agglomerative_model')\n",
    "else:\n",
    "    cluster_model = AgglomerativeClustering(n_clusters=10)\n",
    "    agglomerative_model = BERTopic(language=\"english\", calculate_probabilities=True, verbose=True, hdbscan_model=cluster_model) # Initialize the BERTopic model\n",
    "\n",
    "    agglomerative_model.fit_transform(docs) # Fit the model to the list of article summaries\n",
    "    agglomerative_model.save(\"agglomerative_model\") # Save the trained model \n",
    "\n",
    "if os.path.exists('optics_model'):\n",
    "    optics_model = BERTopic.load('optics_model')\n",
    "else:\n",
    "    cluster_model = OPTICS(min_samples=5)  # Customize the OPTICS parameters as needed\n",
    "    optics_model = BERTopic(language=\"english\", calculate_probabilities=True, verbose=True, hdbscan_model=cluster_model)\n",
    "\n",
    "    optics_model.fit_transform(docs)\n",
    "    optics_model.save(\"optics_model\")\n",
    "\n",
    "if os.path.exists('spectral_model'):\n",
    "    spectral_model = BERTopic.load('spectral_model')\n",
    "else:\n",
    "    cluster_model = SpectralClustering(n_clusters=10)  # Customize the Spectral Clustering parameters as needed\n",
    "    spectral_model = BERTopic(language=\"english\", calculate_probabilities=True, verbose=True, hdbscan_model=cluster_model)\n",
    "\n",
    "    spectral_model.fit_transform(docs)\n",
    "    spectral_model.save(\"spectral_model\")\n",
    "    \n",
    "models = [kmeans_model, agglomerative_model, optics_model, bertopic]"
   ]
  },
  {
   "cell_type": "code",
   "execution_count": 4,
   "id": "bfe027991a5a57d6",
   "metadata": {
    "tags": [
     "'collapsed'"
    ],
    "ExecuteTime": {
     "end_time": "2023-09-25T12:27:23.057282900Z",
     "start_time": "2023-09-25T12:27:23.041664900Z"
    }
   },
   "outputs": [],
   "source": [
    "# We create a function to calculate a list of the top n topics related to (a) given keyword(s)\n",
    "\n",
    "def get_relevant_topics(bertopic_model, keywords, top_n):\n",
    "    \n",
    "    if type(keywords) is str: keywords = [keywords] # If a single string is provided convert it to list type\n",
    "    \n",
    "    relevant_topics = list() # Initilize an empty list of relevant topics\n",
    "    \n",
    "    for keyword in keywords: # Iterate through list of keywords\n",
    "        \n",
    "        # Find the top n number of topics related to the current keyword(s)\n",
    "        topics = bertopic_model.find_topics(keyword, top_n = top_n)\n",
    "        \n",
    "        # Add the topics to the list of relevant topics in the form of (topic_id, relevancy)\n",
    "        relevant_topics.extend(\n",
    "            zip(topics[0], topics[1]) # topics[0] = topic_id, topics[1] = relevancy\n",
    "        )\n",
    "    \n",
    "    \n",
    "    relevant_topics.sort(key=lambda x: x[1]) # Sort the list of topics on ASCENDING ORDER of relevancy\n",
    "    \n",
    "    # Get a list of the set of unique topics (with greates relevancy in case of duplicate topics)\n",
    "    relevant_topics = list(dict(relevant_topics).items())\n",
    "    \n",
    "    \n",
    "    relevant_topics.sort(key=lambda x: x[1], reverse=True) # Now sort the list of topics on DESCENDING ORDER of relevancy\n",
    "    \n",
    "    return relevant_topics[:10] # Return a list of the top_n unique relevant topics"
   ]
  },
  {
   "cell_type": "code",
   "execution_count": 5,
   "id": "4003dcb235be3a72",
   "metadata": {
    "ExecuteTime": {
     "end_time": "2023-09-25T12:27:23.072921600Z",
     "start_time": "2023-09-25T12:27:23.057282900Z"
    }
   },
   "outputs": [],
   "source": [
    "keyword_sets = keyword_sets = [\n",
    "    (['hunger', 'food insecurity', 'conflict'], 'hunger'),\n",
    "    (['refugees', 'displaced'], 'refugees'),\n",
    "    (['humanitarian'], 'humanitarian'),\n",
    "    (['conflict', 'fighting', 'murder', 'military'], 'conflict'),\n",
    "    ([\"politics\", \"government\", \"elections\", \"independence\"], 'politics'),\n",
    "    (['aid', 'assistance', 'relief'], 'aid')\n",
    "]"
   ]
  },
  {
   "cell_type": "code",
   "execution_count": 6,
   "id": "17047ba2d9503307",
   "metadata": {
    "ExecuteTime": {
     "end_time": "2023-09-25T12:27:23.958605400Z",
     "start_time": "2023-09-25T12:27:23.072921600Z"
    }
   },
   "outputs": [
    {
     "name": "stdout",
     "output_type": "stream",
     "text": [
      "Model: KMeans(n_clusters=10)\n",
      "18520\n",
      "0\n",
      "0\n",
      "--------------------\n",
      "Model: AgglomerativeClustering(n_clusters=10)\n",
      "18520\n",
      "0\n",
      "0\n",
      "--------------------\n",
      "Model: OPTICS()\n",
      "18520\n",
      "18177\n",
      "18177\n",
      "--------------------\n",
      "Model: HDBSCAN(min_cluster_size=10, prediction_data=True)\n",
      "18520\n",
      "16224\n",
      "16224\n",
      "--------------------\n"
     ]
    }
   ],
   "source": [
    "for model in models:\n",
    "    for keywords, label in keyword_sets:\n",
    "        # Get the top 10 topics related to the current set of keywords\n",
    "        relevant_topics = get_relevant_topics(bertopic_model=agglomerative_model, keywords=keywords, top_n=15)\n",
    "\n",
    "        # Create a list of topic IDs\n",
    "        topic_ids = [el[0] for el in relevant_topics]\n",
    "\n",
    "        # # Print the relevant topics\n",
    "        # print(f\"Top 10 topics related to '{label}':\")\n",
    "        # for topic_id, relevancy in relevant_topics:\n",
    "        #     print(topic_id, relevancy)\n",
    "\n",
    "        # Add a boolean column to the 'df' DataFrame if the topic is in the list of relevant topics\n",
    "        df[label] = [t in topic_ids for t in model.topics_]\n",
    "    print(f\"Model: {model.hdbscan_model}\")\n",
    "    print(len(df))\n",
    "    print(len(df[(df[\"hunger\"]==False) & (df[\"refugees\"] == False) & (df[\"humanitarian\"] == False) & (df[\"conflict\"] == False)]))\n",
    "    print(len(df[(df[\"hunger\"]==False) & (df[\"refugees\"] == False) & (df[\"humanitarian\"] == False) & (df[\"conflict\"] == False) & (df[\"politics\"] == False) & (df[\"aid\"] == False)]))\n",
    "    print(20* \"-\")"
   ]
  },
  {
   "cell_type": "code",
   "execution_count": 7,
   "outputs": [
    {
     "data": {
      "text/plain": "Index(['summary', 'date', 'location_article', 'lat', 'lng', 'hunger',\n       'refugees', 'humanitarian', 'conflict', 'politics', 'aid'],\n      dtype='object')"
     },
     "execution_count": 7,
     "metadata": {},
     "output_type": "execute_result"
    }
   ],
   "source": [
    "df.columns"
   ],
   "metadata": {
    "collapsed": false,
    "ExecuteTime": {
     "end_time": "2023-09-25T12:27:36.481277500Z",
     "start_time": "2023-09-25T12:27:36.450033500Z"
    }
   },
   "id": "ba44f9ead307fd8b"
  },
  {
   "cell_type": "code",
   "execution_count": 8,
   "id": "c67eb293fcb8885e",
   "metadata": {
    "ExecuteTime": {
     "end_time": "2023-09-25T12:27:36.753483700Z",
     "start_time": "2023-09-25T12:27:36.737863700Z"
    }
   },
   "outputs": [],
   "source": [
    "unsorted = df[(df[\"hunger\"]==False) & (df[\"refugees\"] == False) & (df[\"humanitarian\"] == False) & (df[\"conflict\"] == False) & (df[\"politics\"] == False)]"
   ]
  },
  {
   "cell_type": "code",
   "execution_count": 9,
   "id": "9dbf394d24b5c5e9",
   "metadata": {
    "tags": [
     "'collapsed'"
    ],
    "ExecuteTime": {
     "end_time": "2023-09-25T13:07:43.703542Z",
     "start_time": "2023-09-25T12:27:37.066154200Z"
    }
   },
   "outputs": [
    {
     "data": {
      "text/plain": "Batches:   0%|          | 0/507 [00:00<?, ?it/s]",
      "application/vnd.jupyter.widget-view+json": {
       "version_major": 2,
       "version_minor": 0,
       "model_id": "f2ca8c3bfaa44319bf73d2d7d943e90a"
      }
     },
     "metadata": {},
     "output_type": "display_data"
    },
    {
     "name": "stderr",
     "output_type": "stream",
     "text": [
      "2023-09-25 14:37:14,986 - BERTopic - Transformed documents to Embeddings\n",
      "2023-09-25 14:37:50,307 - BERTopic - Reduced dimensionality\n",
      "  File \"C:\\Users\\20210777\\Anaconda3\\envs\\DC3\\lib\\site-packages\\joblib\\externals\\loky\\backend\\context.py\", line 217, in _count_physical_cores\n",
      "    raise ValueError(\n",
      "2023-09-25 14:37:51,307 - BERTopic - Clustered reduced embeddings\n"
     ]
    },
    {
     "data": {
      "text/plain": "Batches:   0%|          | 0/507 [00:00<?, ?it/s]",
      "application/vnd.jupyter.widget-view+json": {
       "version_major": 2,
       "version_minor": 0,
       "model_id": "ba7d36fc4f8d4eaf90229b8e1bd562ff"
      }
     },
     "metadata": {},
     "output_type": "display_data"
    },
    {
     "name": "stderr",
     "output_type": "stream",
     "text": [
      "2023-09-25 14:47:56,636 - BERTopic - Transformed documents to Embeddings\n",
      "2023-09-25 14:48:06,334 - BERTopic - Reduced dimensionality\n",
      "2023-09-25 14:48:16,429 - BERTopic - Clustered reduced embeddings\n"
     ]
    },
    {
     "data": {
      "text/plain": "Batches:   0%|          | 0/507 [00:00<?, ?it/s]",
      "application/vnd.jupyter.widget-view+json": {
       "version_major": 2,
       "version_minor": 0,
       "model_id": "17f0153ecfbc464fa0e7109b9804d3f2"
      }
     },
     "metadata": {},
     "output_type": "display_data"
    },
    {
     "name": "stderr",
     "output_type": "stream",
     "text": [
      "2023-09-25 14:57:56,179 - BERTopic - Transformed documents to Embeddings\n",
      "2023-09-25 14:58:05,640 - BERTopic - Reduced dimensionality\n",
      "2023-09-25 14:59:20,853 - BERTopic - Clustered reduced embeddings\n"
     ]
    },
    {
     "data": {
      "text/plain": "Batches:   0%|          | 0/507 [00:00<?, ?it/s]",
      "application/vnd.jupyter.widget-view+json": {
       "version_major": 2,
       "version_minor": 0,
       "model_id": "5680d5b977d0496b97a40e7c41134e6c"
      }
     },
     "metadata": {},
     "output_type": "display_data"
    },
    {
     "name": "stderr",
     "output_type": "stream",
     "text": [
      "2023-09-25 15:07:09,114 - BERTopic - Transformed documents to Embeddings\n",
      "2023-09-25 15:07:16,095 - BERTopic - Reduced dimensionality\n",
      "2023-09-25 15:07:36,613 - BERTopic - Clustered reduced embeddings\n"
     ]
    }
   ],
   "source": [
    "#Refit models on unsorted data\n",
    "if os.path.exists(\"refit_bertopic\"):\n",
    "    refit_bertopic = BERTopic.load(\"refit_bertopic\")\n",
    "else:\n",
    "    refit_bertopic = BERTopic(language=\"english\", calculate_probabilities=True, verbose=True)\n",
    "    refit_bertopic.fit_transform(unsorted[\"summary\"].tolist())\n",
    "    refit_bertopic.save(\"refit_bertopic\")\n",
    "\n",
    "\n",
    "if os.path.exists('refit_kmeans'):\n",
    "    refit_kmeans = BERTopic.load('refit_kmeans')\n",
    "else:\n",
    "    refit_kmeans = BERTopic(language=\"english\", calculate_probabilities=True, verbose=True, hdbscan_model=KMeans(n_clusters=10))\n",
    "    refit_kmeans.fit_transform(unsorted[\"summary\"].tolist())\n",
    "    refit_kmeans.save(\"refit_kmeans\")\n",
    "\n",
    "if os.path.exists('refit_agglomerative'):\n",
    "    refit_agglomerative = BERTopic.load('refit_agglomerative')\n",
    "else:\n",
    "    refit_agglomerative = BERTopic(language=\"english\", calculate_probabilities=True, verbose=True, hdbscan_model=AgglomerativeClustering(n_clusters=10))\n",
    "    refit_agglomerative.fit_transform(unsorted[\"summary\"].tolist())\n",
    "    refit_agglomerative.save(\"refit_agglomerative\")\n",
    "\n",
    "if os.path.exists('refit_spectral'):\n",
    "    refit_spectral = BERTopic.load('refit_spectral')\n",
    "else:\n",
    "    refit_spectral = BERTopic(language=\"english\", calculate_probabilities=True, verbose=True, hdbscan_model=SpectralClustering(n_clusters=10))\n",
    "    refit_spectral.fit_transform(unsorted[\"summary\"].tolist())\n",
    "    refit_spectral.save(\"refit_spectral\")\n",
    "\n",
    "if os.path.exists('refit_optics'):\n",
    "    refit_optics = BERTopic.load('refit_optics')\n",
    "else:\n",
    "    refit_optics = BERTopic(language=\"english\", calculate_probabilities=True, verbose=True, hdbscan_model=OPTICS(min_samples=5))\n",
    "    refit_optics.fit_transform(unsorted[\"summary\"].tolist())\n",
    "    refit_optics.save(\"refit_optics\")\n",
    "\n",
    "refitted_models = [refit_kmeans, refit_agglomerative, refit_spectral, refit_optics, refit_bertopic]"
   ]
  },
  {
   "cell_type": "code",
   "execution_count": 10,
   "id": "2e8c1fc0302a3b8f",
   "metadata": {
    "ExecuteTime": {
     "end_time": "2023-09-25T13:17:52.634370200Z",
     "start_time": "2023-09-25T13:17:51.460541700Z"
    }
   },
   "outputs": [
    {
     "name": "stdout",
     "output_type": "stream",
     "text": [
      "Model: KMeans(n_clusters=10)\n",
      "16224\n",
      "14656\n",
      "14656\n",
      "--------------------\n",
      "Model: AgglomerativeClustering(n_clusters=10)\n",
      "16224\n",
      "14656\n",
      "14656\n",
      "--------------------\n",
      "Model: SpectralClustering(n_clusters=10)\n",
      "16224\n",
      "14656\n",
      "14656\n",
      "--------------------\n",
      "Model: OPTICS()\n",
      "16224\n",
      "15793\n",
      "15585\n",
      "--------------------\n",
      "Model: HDBSCAN(min_cluster_size=10, prediction_data=True)\n",
      "16224\n",
      "14860\n",
      "14274\n",
      "--------------------\n"
     ]
    }
   ],
   "source": [
    "for model in refitted_models:\n",
    "    for keywords, label in keyword_sets:\n",
    "        # Get the top 10 topics related to the current set of keywords\n",
    "        relevant_topics = get_relevant_topics(bertopic_model=model, keywords=keywords, top_n=10)\n",
    "        \n",
    "        # Create a list of topic IDs\n",
    "        topic_ids = [el[0] for el in relevant_topics]\n",
    "        \n",
    "        # # Print the relevant topics\n",
    "        # print(f\"Top 10 topics related to '{label}':\")\n",
    "        # for topic_id, relevancy in relevant_topics:\n",
    "        #     print(topic_id, relevancy)\n",
    "        \n",
    "        # Add a boolean column to 'unsorted' DataFrame if the topic is in the list of relevant topics\n",
    "        unsorted[label] = [t in topic_ids for t in refit_bertopic.topics_]\n",
    "    print(f\"Model: {model.hdbscan_model}\")\n",
    "    print(len(unsorted))\n",
    "    print(len(unsorted[(unsorted[\"hunger\"]==False) & (unsorted[\"refugees\"] == False) & (unsorted[\"humanitarian\"] == False) & (unsorted[\"conflict\"] == False)]))\n",
    "    print(len(unsorted[(unsorted[\"hunger\"]==False) & (unsorted[\"refugees\"] == False) & (unsorted[\"humanitarian\"] == False) & (unsorted[\"conflict\"] == False) & (unsorted[\"politics\"] == False) & (unsorted[\"aid\"] == False)]))\n",
    "    print(20* \"-\")"
   ]
  },
  {
   "cell_type": "code",
   "execution_count": 12,
   "outputs": [],
   "source": [
    "#Update the original dataframe with the new labels\n",
    "df.update(unsorted)\n",
    "unsorted2 = df[(df[\"hunger\"]==False) & (df[\"refugees\"] == False) & (df[\"humanitarian\"] == False) & (df[\"conflict\"] == False) & (df[\"politics\"] == False)]"
   ],
   "metadata": {
    "collapsed": false,
    "ExecuteTime": {
     "end_time": "2023-09-25T13:18:06.149530700Z",
     "start_time": "2023-09-25T13:18:06.087040200Z"
    }
   },
   "id": "ff832488d6c5ac48"
  },
  {
   "cell_type": "code",
   "execution_count": 13,
   "outputs": [
    {
     "data": {
      "text/plain": "Batches:   0%|          | 0/451 [00:00<?, ?it/s]",
      "application/vnd.jupyter.widget-view+json": {
       "version_major": 2,
       "version_minor": 0,
       "model_id": "25259fc570794922965c91855661a363"
      }
     },
     "metadata": {},
     "output_type": "display_data"
    },
    {
     "name": "stderr",
     "output_type": "stream",
     "text": [
      "2023-09-25 15:24:40,424 - BERTopic - Transformed documents to Embeddings\n",
      "2023-09-25 15:24:46,794 - BERTopic - Reduced dimensionality\n",
      "2023-09-25 15:25:21,070 - BERTopic - Clustered reduced embeddings\n"
     ]
    }
   ],
   "source": [
    "#Refit a second time\n",
    "if os.path.exists(\"refit2_bertopic\"):\n",
    "    refit2_bertopic = BERTopic.load(\"refit2_bertopic\")\n",
    "else:\n",
    "    refit2_bertopic = BERTopic(language=\"english\", calculate_probabilities=True, verbose=True)\n",
    "    refit2_bertopic.fit_transform(unsorted2[\"summary\"].tolist())\n",
    "    refit2_bertopic.save(\"refit2_bertopic\")\n"
   ],
   "metadata": {
    "collapsed": false,
    "ExecuteTime": {
     "end_time": "2023-09-25T13:25:26.144226600Z",
     "start_time": "2023-09-25T13:18:06.415522100Z"
    }
   },
   "id": "9bc918910e091b77"
  },
  {
   "cell_type": "code",
   "execution_count": 16,
   "outputs": [
    {
     "name": "stdout",
     "output_type": "stream",
     "text": [
      "Model: HDBSCAN(min_cluster_size=10, prediction_data=True)\n",
      "14412\n",
      "12954\n",
      "12545\n",
      "--------------------\n"
     ]
    }
   ],
   "source": [
    "for keywords, label in keyword_sets:\n",
    "        # Get the top 10 topics related to the current set of keywords\n",
    "        relevant_topics = get_relevant_topics(bertopic_model=refit2_bertopic, keywords=keywords, top_n=10)\n",
    "        \n",
    "        # Create a list of topic IDs\n",
    "        topic_ids = [el[0] for el in relevant_topics]\n",
    "        \n",
    "        # # Print the relevant topics\n",
    "        # print(f\"Top 10 topics related to '{label}':\")\n",
    "        # for topic_id, relevancy in relevant_topics:\n",
    "        #     print(topic_id, relevancy)\n",
    "        \n",
    "        # Add a boolean column to 'unsorted' DataFrame if the topic is in the list of relevant topics\n",
    "        unsorted2[label] = [t in topic_ids for t in refit2_bertopic.topics_]\n",
    "print(f\"Model: {refit2_bertopic.hdbscan_model}\")\n",
    "print(len(unsorted2))\n",
    "print(len(unsorted2[(unsorted2[\"hunger\"]==False) & (unsorted2[\"refugees\"] == False) & (unsorted2[\"humanitarian\"] == False) & (unsorted2[\"conflict\"] == False)]))\n",
    "print(len(unsorted2[(unsorted2[\"hunger\"]==False) & (unsorted2[\"refugees\"] == False) & (unsorted2[\"humanitarian\"] == False) & (unsorted2[\"conflict\"] == False) & (unsorted2[\"politics\"] == False) & (unsorted2[\"aid\"] == False)]))\n",
    "print(20* \"-\")"
   ],
   "metadata": {
    "collapsed": false,
    "ExecuteTime": {
     "end_time": "2023-09-25T13:28:54.996832800Z",
     "start_time": "2023-09-25T13:28:54.809597800Z"
    }
   },
   "id": "be37f942a1b4b362"
  },
  {
   "cell_type": "code",
   "execution_count": 17,
   "outputs": [],
   "source": [
    "df.update(unsorted2)"
   ],
   "metadata": {
    "collapsed": false,
    "ExecuteTime": {
     "end_time": "2023-09-25T13:29:54.149776500Z",
     "start_time": "2023-09-25T13:29:54.118534100Z"
    }
   },
   "id": "2165781722ed7740"
  }
 ],
 "metadata": {
  "celltoolbar": "Tags",
  "kernelspec": {
   "display_name": "Python 3 (ipykernel)",
   "language": "python",
   "name": "python3"
  },
  "language_info": {
   "codemirror_mode": {
    "name": "ipython",
    "version": 3
   },
   "file_extension": ".py",
   "mimetype": "text/x-python",
   "name": "python",
   "nbconvert_exporter": "python",
   "pygments_lexer": "ipython3",
   "version": "3.11.5"
  }
 },
 "nbformat": 4,
 "nbformat_minor": 5
}
